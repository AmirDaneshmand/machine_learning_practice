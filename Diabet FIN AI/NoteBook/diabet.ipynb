{
 "cells": [
  {
   "cell_type": "markdown",
   "metadata": {},
   "source": [
    "<h1 align=center style=\"line-height:200%;font-family:vazir;color:#0099cc\">\n",
    "<font face=\"vazir\" color=\"#0099cc\">\n",
    "جامعه دیابت\n",
    "</font>\n",
    "</h1>"
   ]
  },
  {
   "cell_type": "markdown",
   "metadata": {},
   "source": [
    "<h2 dir=rtl align=right style=\"line-height:200%;font-family:vazir;color:#0099cc\">\n",
    "<font face=\"vazir\" color=\"#0099cc\">\n",
    "مقدمه و صورت مسئله\n",
    "</font>\n",
    "</h2>\n",
    "\n",
    "<p dir=rtl style=\"direction: rtl; text-align: justify; line-height:200%; font-family:vazir; font-size:medium\">\n",
    "<font face=\"vazir\" size=3>\n",
    "در این سوال ما به دنبال آموزش یک مدل یادگیری ماشین هستیم که بتواند جامعه دیابتی‌ها را به دو دسته مختلف تقسیم کند. در مجموعه‌داده مورد نظر، ستونی با نام <code>Diabetic</code> وجود دارد. در این سوال مدل شما باید بتواند با توجه به این ستون، افراد را به ۲ گروه «دارای دیابت از نوع ۱» و «دارای دیابت از نوع ۲» تقسیم کند.\n",
    "</font>\n",
    "</p>"
   ]
  },
  {
   "cell_type": "markdown",
   "metadata": {},
   "source": [
    "<h2 dir=rtl align=right style=\"line-height:200%;font-family:vazir;color:#0099cc\">\n",
    "<font face=\"vazir\" color=\"#0099cc\">\n",
    "معرفی مجموعه داده\n",
    "</font>\n",
    "</h2>\n",
    "\n",
    "<p dir=rtl style=\"direction: rtl; text-align: justify; line-height:200%; font-family:vazir; font-size:medium\">\n",
    "<font face=\"vazir\" size=3>\n",
    "در فایل اولیه‌ی این سوال، یک پوشه با نام <code>Data</code> وجود دارد که شامل ۲ فایل <code>train.csv</code> و <code>test.csv</code> وجود دارد. در این ۲ فایل دیتاستی به شرح زیر موجود می‌باشد:\n",
    "</font>\n",
    "</p>\n",
    "\n",
    "<p dir=rtl style=\"direction: rtl; text-align: justify; line-height:200%; font-family:vazir; font-size:medium\">\n",
    "<font face=\"vazir\" size=3>\n",
    "فایل <code>train.csv</code> دارای ۵۰ ستون می‌باشد و فایل <code>test.csv</code> به جز ستون <code>Diabetic</code> به مشابه فایل <code>train.csv</code> دارای ۴۹ ستون می‌باشد.\n",
    "هر ستون مربوط به یک شاخصه‌ی تاثیرگذار بر روی وضعیت سلامت فرد است. توضیحات هر ستون به شرح زیر می‌باشد:\n",
    "\n",
    "<center>\n",
    "<div dir=rtl style=\"direction: rtl;line-height:200%;font-family:vazir;font-size:medium\">\n",
    "<font face=\"vazir\" size=3>\n",
    "    \n",
    "|ستون|توضیحات|\n",
    "|:------:|:---:|\n",
    "|<code>ADM_RNO1</code>|آی‌دی منحصربه‌فرد برای هر شخص|\n",
    "|<code>Province</code>|استانی که شخص در آن سکونت دارد|\n",
    "|<code>Health_region_grouped</code>|ناحیه بهداشتی که هر فرد در آن حضور دارد|\n",
    "|<code>Gender</code>|جنسیت|\n",
    "|<code>Marital_status</code>|وضعیت تاهل|\n",
    "|<code>Household</code>|نوع ترکیب خانوار|\n",
    "|<code>Age</code>|سن|\n",
    "|<code>Worked_job_business</code>|وضعیت شغلی فرد در ۱۲ ماه گذشته|\n",
    "|<code>Edu_level</code>|تحصیلات|\n",
    "|<code>Gen_health_state</code>|خودارزیابی سلامت عمومی|\n",
    "|<code>Life_satisfaction</code>|میزان رضایت از زندگی شخصی|\n",
    "|<code>Mental_health_state</code>|خود ارزیابی وضعیت سلامت روان|\n",
    "|<code>Stress_level</code>|سطح استرس در زندگی روزمره|\n",
    "|<code>Work_stress</code>|سطح استرس در زندگی کاری|\n",
    "|<code>Sense_belonging</code>|حس تعلق به جامعه|\n",
    "|<code>Weight_state</code>|وضعیت وزنی بر اساس معیار BMI|\n",
    "|<code>BMI_12_17</code>|میزان BMI برای سنین ۱۲ تا ۱۷ سال|\n",
    "|<code>BMI_18_above</code>|میزان BMI برای سنین بالای ۱۸ سال|\n",
    "|<code>Sleep_apnea</code>|وجود مشکل خواب|\n",
    "|<code>High_BP</code>|وجود مشکل فشار خون بالا|\n",
    "|<code>High_cholesterol</code>|وجود مشکل کلسترول بالا|\n",
    "|<code>Diabetic</code>|نوع دیابت|\n",
    "|<code>Fatigue_syndrome</code>|وجود سندروم خستگی مزمن|\n",
    "|<code>Mood_disorder</code>|وجود اختلال خلقی|\n",
    "|<code>Anxiety_disorder</code>|وجود اختلال اضطرابی|\n",
    "|<code>Respiratory_chronic_con</code>|وجود بیماری انسدادی مزمن ریه|\n",
    "|<code>Musculoskeletal_con</code>|وجود اختلال گرفتگی عضلانی|\n",
    "|<code>Cardiovascular_con</code>|وجود بیکاری قلبی و عروقی|\n",
    "|<code>Health_utility_index</code>|شاخص سلامتی|\n",
    "|<code>Pain_status</code>|فراوانی و شدت درد|\n",
    "|<code>Act_improve_health</code>|انجام فعالیت‌های مرتبط با بهبود سلامتی|\n",
    "|<code>Fruit_veg_con</code>|مصرف روزانه میوه و سبزیجات|\n",
    "|<code>Smoked</code>|وضعیت استعمال سیگار|\n",
    "|<code>Tobacco_use</code>|وضعیت مصرف تنباکو |\n",
    "|<code>Weekly_alcohol</code>|دفعات مصرف الکل در هفته|\n",
    "|<code>Cannabis_use</code>|وضعیت مصرف حشیش|\n",
    "|<code>Drug_use</code>|مصرف مواد مخدر غیرقانونی در 12 ماه گذشته|\n",
    "|<code>Total_active_time</code>|مجموع فعالیت‌های فیزیکی|\n",
    "|<code>Other_physical_act_time</code>|مجموع فعالیت‌های فیزیکی غیره|\n",
    "|<code>Physical_vigorous_act_time</code>|زمان صرف شده برای فعالیت بدنی شدید|\n",
    "|<code>Work_hours</code>|تعداد ساعات کار در هفته|\n",
    "|<code>Working_status</code>|وضعیت کلی اشتغال|\n",
    "|<code>Aboriginal_identity</code>|آیا فرد به عنوان بومی معرفی می شود یا خیر|\n",
    "|<code>Birth_country</code>|کشور تولد|\n",
    "|<code>Immigrant</code>|آیا فرد مهاجر است یا خیر|\n",
    "|<code>Insurance_cover</code>|نوع بیمه‌ای که فرد استفاده می‌کند|\n",
    "|<code>Food_security</code>|وضعیت امنیت غذایی خانوار|\n",
    "|<code>Income_source</code>|منبع اصلی درآمد |\n",
    "|<code>Total_income</code>|درآمد سالیانه|\n",
    "\n",
    "</font>\n",
    "</div>\n",
    "</center>\n",
    "\n",
    "\n",
    "<p dir=rtl style=\"direction: rtl; text-align: justify; line-height:200%; font-family:vazir; font-size:medium\">\n",
    "<font face=\"vazir\" size=3>\n",
    "در مجموعه‌داده داده‌شده، مقادیر به صورت عددی ذخیره‌شده‌اند و هر ستون با توجه به ماهیت خود، می‌تواند چندین مقدار مختلف داشته باشد.\n",
    "</font>\n",
    "</p>\n"
   ]
  },
  {
   "cell_type": "markdown",
   "metadata": {},
   "source": [
    "<p dir=rtl style=\"direction: rtl; text-align: justify; line-height:200%; font-family:vazir; font-size:medium\">\n",
    "<font face=\"vazir\" size=3>\n",
    "در این قسمت کتاب‌خانه‌ها و ابزار مورد نیاز خود را <code>import</code> کنید و فایل داده‌ها را که در پوشه‌ی <code>Data</code> و که با نام‌های <code>train.csv</code> و <code>test.csv</code> ذخیره‌شده‌اند را بخوانید و وارد محیط کار خود کنید.\n",
    "</font>\n",
    "</p>"
   ]
  },
  {
   "cell_type": "code",
   "execution_count": 1,
   "metadata": {},
   "outputs": [
    {
     "data": {
      "text/plain": [
       "0    2\n",
       "1    2\n",
       "2    2\n",
       "3    1\n",
       "4    2\n",
       "Name: Diabetic, dtype: int64"
      ]
     },
     "execution_count": 1,
     "metadata": {},
     "output_type": "execute_result"
    }
   ],
   "source": [
    "# TODO:\n",
    "import numpy as np\n",
    "import pandas as pd\n",
    "train = pd.read_csv('../Data/train.csv')\n",
    "test = pd.read_csv('../Data/test.csv')\n",
    "train['Diabetic'].head()"
   ]
  },
  {
   "cell_type": "markdown",
   "metadata": {},
   "source": [
    "<h2 dir=rtl align=right style=\"line-height:200%;font-family:vazir;color:#0099cc\">\n",
    "<font face=\"vazir\" color=\"#0099cc\">\n",
    "پیش‌پردازش و مهندسی ویژگی\n",
    "</font>\n",
    "</h2>\n",
    "\n",
    "<p dir=rtl style=\"direction: rtl; text-align: justify; line-height:200%; font-family:vazir; font-size:medium\">\n",
    "<font face=\"vazir\" size=3>\n",
    "        در این سوال شما می‌توانید از هر تکنیک پیش‌پردازش/مهندسی ویژگی دلخواهتان، استفاده کنید.\n",
    "    <br>\n",
    "    تکنیک‌هایی که استفاده می‌کنید به شکل مستقیم مورد ارزیابی توسط سامانه داوری قرار <b>نمی‌گیرند.</b> بلکه همه آن‌ها در دقت مدل شما تاثیر خواهند گذاشت؛ بنابراین هر چه پیش‌پردازش/مهندسی ویژگی بهتری انجام دهید تا دقت مدل بهبود پیدا کند، امتیاز بیشتری از این سوال کسب خواهید کرد.\n",
    "    در این قسمت شما می‌توانید بخشی از داده‌ی موجود را برای اعتبارسنجی در نظر بگیرید.\n",
    "</font>\n",
    "</p>"
   ]
  },
  {
   "cell_type": "code",
   "execution_count": 2,
   "metadata": {},
   "outputs": [
    {
     "name": "stdout",
     "output_type": "stream",
     "text": [
      "<class 'pandas.core.frame.DataFrame'>\n",
      "RangeIndex: 23190 entries, 0 to 23189\n",
      "Data columns (total 49 columns):\n",
      " #   Column                      Non-Null Count  Dtype  \n",
      "---  ------                      --------------  -----  \n",
      " 0   Province                    23190 non-null  int64  \n",
      " 1   Health_region_ grouped      23190 non-null  int64  \n",
      " 2   Gender                      23190 non-null  int64  \n",
      " 3   Marital_status              23190 non-null  int64  \n",
      " 4   Household                   23190 non-null  int64  \n",
      " 5   Age                         23190 non-null  int64  \n",
      " 6   Worked_job_business         23190 non-null  int64  \n",
      " 7   Edu_level                   23190 non-null  int64  \n",
      " 8   Gen_health_state            23190 non-null  int64  \n",
      " 9   Life_satisfaction           23190 non-null  int64  \n",
      " 10  Mental_health_state         23190 non-null  int64  \n",
      " 11  Stress_level                23190 non-null  int64  \n",
      " 12  Work_stress                 23190 non-null  int64  \n",
      " 13  Sense_belonging             23190 non-null  int64  \n",
      " 14  Weight_state                23190 non-null  int64  \n",
      " 15  BMI_12_17                   23190 non-null  int64  \n",
      " 16  BMI_18_above                23190 non-null  int64  \n",
      " 17  Sleep_apnea                 23190 non-null  int64  \n",
      " 18  High_BP                     23190 non-null  int64  \n",
      " 19  High_cholestrol             23190 non-null  int64  \n",
      " 20  Diabetic                    23190 non-null  int64  \n",
      " 21  Fatigue_syndrome            23190 non-null  int64  \n",
      " 22  Mood_disorder               23190 non-null  int64  \n",
      " 23  Anxiety_disorder            23190 non-null  int64  \n",
      " 24  Respiratory_chronic_con     23190 non-null  int64  \n",
      " 25  Musculoskeletal_con         23190 non-null  int64  \n",
      " 26  Cardiovascular_con          23190 non-null  int64  \n",
      " 27  Health_utility_indx         23190 non-null  int64  \n",
      " 28  Pain_status                 23190 non-null  int64  \n",
      " 29  Act_improve_health          23190 non-null  int64  \n",
      " 30  Fruit_veg_con               23190 non-null  float64\n",
      " 31  Smoked                      23168 non-null  float64\n",
      " 32  Tobaco_use                  23190 non-null  int64  \n",
      " 33  weekly_alcohol              23190 non-null  int64  \n",
      " 34  Cannabies_use               23190 non-null  int64  \n",
      " 35  Drug_use                    23190 non-null  int64  \n",
      " 36  Total_active_time           23190 non-null  int64  \n",
      " 37  Total_physical_act_time     23190 non-null  int64  \n",
      " 38  Other_physical_act_time     23190 non-null  int64  \n",
      " 39  Physical_vigorous_act_time  23190 non-null  int64  \n",
      " 40  Work_hours                  23190 non-null  int64  \n",
      " 41  working_status              23190 non-null  int64  \n",
      " 42  Aboriginal_identity         23190 non-null  int64  \n",
      " 43  Birth_country               23190 non-null  int64  \n",
      " 44  Immigrant                   23190 non-null  int64  \n",
      " 45  Insurance_cover             23190 non-null  int64  \n",
      " 46  Food_security               23190 non-null  int64  \n",
      " 47  Income_source               23190 non-null  int64  \n",
      " 48  Total_income                23190 non-null  int64  \n",
      "dtypes: float64(2), int64(47)\n",
      "memory usage: 8.7 MB\n"
     ]
    }
   ],
   "source": [
    "# TODO:\n",
    "train = train.drop('ADM_RNO1', axis=1)\n",
    "test = test.drop('ADM_RNO1', axis=1)\n",
    "train.info()\n"
   ]
  },
  {
   "cell_type": "markdown",
   "metadata": {},
   "source": [
    "<h2 dir=rtl align=right style=\"line-height:200%;font-family:vazir;color:#0099cc\">\n",
    "<font face=\"vazir\" color=\"#0099cc\">\n",
    "آموزش مدل\n",
    "</font>\n",
    "</h2>\n",
    "\n",
    "<p dir=rtl style=\"direction: rtl;text-align: justify;line-height:200%;font-family:vazir;font-size:medium\">\n",
    "<font face=\"vazir\" size=3>\n",
    "    حال که داده را پاکسازی کرده و احتمالا ویژگی‌هایی را به آن افزوده یا از آن حذف کرده‌اید، وقت آن است که مدلی آموزش دهید که بتواند متغیر هدف این مسئله را پیش‌بینی کند. در این قسمت استفاده از هر نوع مدل مربوط به یادگیری ماشین کلاسیک مجاز می‌باشد.\n",
    "</font>\n",
    "</p>"
   ]
  },
  {
   "cell_type": "code",
   "execution_count": 3,
   "metadata": {},
   "outputs": [],
   "source": [
    "# TODO:\n",
    "from sklearn.linear_model import LogisticRegression\n",
    "from sklearn.preprocessing import StandardScaler\n",
    "from sklearn.model_selection import train_test_split\n",
    "from sklearn.impute import SimpleImputer\n",
    "from sklearn.svm import SVC\n",
    "from sklearn.ensemble import RandomForestClassifier\n",
    "\n",
    "\n",
    "scaler = StandardScaler()\n",
    "\n",
    "X = train.drop('Diabetic', axis=1)\n",
    "y = train['Diabetic']\n",
    "\n",
    "imputer = SimpleImputer(strategy='mean')\n",
    "X_imputed = imputer.fit_transform(X)\n",
    "\n",
    "X_scaled = scaler.fit_transform(X_imputed)\n",
    "X_train, X_test, y_train, y_test = train_test_split(X_scaled, y, test_size=0.2, random_state=42)\n",
    "\n",
    "\n",
    "\n",
    "\n",
    "model = RandomForestClassifier(n_estimators=500, random_state=42)\n",
    "model.fit(X_train, y_train)\n",
    "pred = model.predict(X_test)\n"
   ]
  },
  {
   "cell_type": "markdown",
   "metadata": {},
   "source": [
    "<h2 dir=rtl align=right style=\"line-height:200%;font-family:vazir;color:#0099cc\">\n",
    "<font face=\"vazir\" color=\"#0099cc\">\n",
    "معیار ارزیابی\n",
    "</font>\n",
    "</h2>\n",
    "\n",
    "<p dir=rtl style=\"direction: rtl; text-align: justify; line-height:200%; font-family:vazir; font-size:medium\">\n",
    "<font face=\"vazir\" size=3>\n",
    "   ارسال‌ها بر اساس امتیاز <code>F1</code> ارزیابی می‌شوند و مدل میانگین‌گیری <code>macro</code> است. امتیاز <code>F1</code> معیاری برای ارزیابی مدل است که هم بازیابی (<code>Recall</code>) و هم صحت (<code>Accuracy</code>) را در نظر می‌گیرد.\n",
    "   نتیجه‌ی نهایی بر اساس فرمول زیر محاسبه می‌گردد:\n",
    "\n",
    "$$score= round(f1score, 3) \\times 100$$\n",
    "</font>\n",
    "</p>\n",
    "<p dir=rtl style=\"direction: rtl; text-align: justify; line-height:200%; font-family:vazir; font-size:medium\">\n",
    "<font face=\"vazir\" size=3>\n",
    "مقدار <code>F1 Score</code> مدل شما تا ۳ رقم اعشار گرد شده و پس از ضرب در ۱۰۰ به‌عنوان امتیاز شما از این سوال لحاظ می‌شود. بیشترین امتیاز ممکن از این سوال ۱۰۰ و کمترین امتیاز قابل قبول، ۶۰ می‌باشد. امتیاز <code>F1</code> کمتر از ۶۰ معادل صفر در نظر گرفته خواهد شد.\n",
    "    <br>\n",
    "    پیشنهاد می‌شود با توجه به این معیار، عملکرد مدل خود را بر روی مجموعه‌ی آموزش یا اعتبارسنجی ارزیابی کنید.\n",
    "</font>\n",
    "</p>"
   ]
  },
  {
   "cell_type": "code",
   "execution_count": 4,
   "metadata": {},
   "outputs": [
    {
     "name": "stdout",
     "output_type": "stream",
     "text": [
      "0.743511285969761\n",
      "74.4\n"
     ]
    }
   ],
   "source": [
    "from sklearn.metrics import f1_score\n",
    "\n",
    "# TODO:\n",
    "f1_macro = f1_score(y_test, pred, average='macro')\n",
    "final_score = round(f1_macro, 3) * 100\n",
    "\n",
    "print(f1_macro)\n",
    "print(final_score)"
   ]
  },
  {
   "cell_type": "markdown",
   "metadata": {},
   "source": [
    "<h2 dir=rtl align=right style=\"line-height:200%;font-family:vazir;color:#0099cc\">\n",
    "<font face=\"vazir\" color=\"#0099cc\">\n",
    " پیش‌بینی برای داده تست و خروجی\n",
    "</font>\n",
    "</h2>\n",
    "\n",
    "<p dir=rtl style=\"direction: rtl;text-align: right;line-height:200%;font-family:vazir;font-size:medium\">\n",
    "<font face=\"vazir\" size=3>\n",
    "    پیش‌بینی مدل خود بر روی داده‌های آزمایش را در قالب یک <code>dataframe</code> در متغیری با نام <code>submission</code>ذخیره کنید.  این <code>dataframe</code> باید دارای یک ستون با نام <code>diabet</code> باشد که ردیف <code>i</code>ام آن، پیش‌بینی شما برای سطر <code>i</code>ام مجموعه‌داده‌ی آزمون باشد.\n",
    "</font>\n",
    "</p>\n",
    "\n",
    "<center>\n",
    "<div dir=rtl style=\"direction: rtl;line-height:200%;font-family:vazir;font-size:medium\">\n",
    "<font face=\"vazir\" size=3>\n",
    "    \n",
    "|ستون|توضیحات|\n",
    "|------|---|\n",
    "|diabet|نوع دیابت|\n",
    "    \n",
    "</font>\n",
    "</div>\n",
    "</center>"
   ]
  },
  {
   "cell_type": "code",
   "execution_count": 22,
   "metadata": {},
   "outputs": [],
   "source": [
    "# TODO:\n",
    "\n",
    "\n",
    "X = train.drop('Diabetic', axis=1)\n",
    "y = train['Diabetic']\n",
    "\n",
    "\n",
    "\n",
    "\n",
    "\n",
    "\n",
    "X = test\n",
    "X_imputed = imputer.fit_transform(X)\n",
    "X_scaled = scaler.fit_transform(X_imputed)\n",
    "pred = model.predict(X_scaled)\n",
    "\n",
    "\n",
    "\n",
    "submission = pd.DataFrame({'diabet':pred})\n"
   ]
  },
  {
   "cell_type": "markdown",
   "metadata": {},
   "source": [
    "<h2 dir=rtl align=right style=\"line-height:200%;font-family:vazir;color:#0099cc\">\n",
    "<font face=\"vazir\" color=\"#0099cc\">\n",
    "<b>سلول جواب‌ساز</b>\n",
    "</font>\n",
    "</h2>\n",
    "\n",
    "<p dir=rtl style=\"direction: rtl; text-align: justify; line-height:200%; font-family:vazir; font-size:medium\">\n",
    "<font face=\"vazir\" size=3>\n",
    "    برای ساخته‌شدن فایل <code>result.zip</code> سلول زیر را اجرا کنید. توجه داشته باشید که پیش از اجرای سلول زیر تغییرات اعمال شده در نت‌بوک را ذخیره کرده باشید (<code>ctrl+s</code>) در غیر این صورت، در پایان مسابقه نمره شما به صفر تغییر خواهد کرد.\n",
    "    <br>\n",
    "    همچنین اگر از کولب برای اجرای این فایل نوت‌بوک استفاده می‌کنید، قبل از ارسال فایل <code>result.zip</code>، آخرین نسخه‌ی نوت‌بوک خود را دانلود کرده و داخل فایل ارسالی قرار دهید.\n",
    "</font>"
   ]
  },
  {
   "cell_type": "code",
   "execution_count": 23,
   "metadata": {},
   "outputs": [
    {
     "name": "stdout",
     "output_type": "stream",
     "text": [
      "File Paths:\n",
      "['diabet.ipynb', 'submission.csv']\n"
     ]
    }
   ],
   "source": [
    "import zipfile\n",
    "import joblib\n",
    "import os\n",
    "\n",
    "if not os.path.exists(os.path.join(os.getcwd(), 'diabet.ipynb')):\n",
    "    %notebook -e diabet.ipynb\n",
    "\n",
    "def compress(file_names):\n",
    "    print(\"File Paths:\")\n",
    "    print(file_names)\n",
    "    compression = zipfile.ZIP_DEFLATED\n",
    "    with zipfile.ZipFile(\"result.zip\", mode=\"w\") as zf:\n",
    "        for file_name in file_names:\n",
    "            zf.write('./' + file_name, file_name, compress_type=compression)\n",
    "\n",
    "submission.to_csv('submission.csv', index=False)\n",
    "file_names = ['diabet.ipynb', 'submission.csv']\n",
    "compress(file_names)"
   ]
  }
 ],
 "metadata": {
  "kernelspec": {
   "display_name": "Python (myenv)",
   "language": "python",
   "name": "myenv"
  },
  "language_info": {
   "codemirror_mode": {
    "name": "ipython",
    "version": 3
   },
   "file_extension": ".py",
   "mimetype": "text/x-python",
   "name": "python",
   "nbconvert_exporter": "python",
   "pygments_lexer": "ipython3",
   "version": "3.10.16"
  }
 },
 "nbformat": 4,
 "nbformat_minor": 2
}
